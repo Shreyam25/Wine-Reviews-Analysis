{
 "cells": [
  {
   "cell_type": "code",
   "execution_count": 89,
   "id": "0d4d6609",
   "metadata": {},
   "outputs": [],
   "source": [
    "\n",
    "import seaborn as sns\n",
    "from scipy.stats import kurtosis, skew\n",
    "from scipy import stats\n",
    "import matplotlib.pyplot as plt\n",
    "%matplotlib inline\n",
    "sns.set(color_codes=True)\n",
    "import numpy as np"
   ]
  },
  {
   "cell_type": "code",
   "execution_count": 41,
   "id": "41135285",
   "metadata": {},
   "outputs": [],
   "source": [
    "df = pd.read_csv('wine-reviews.csv',index_col=0)\n",
    "df.index+=1"
   ]
  },
  {
   "cell_type": "code",
   "execution_count": 42,
   "id": "f802cf8b",
   "metadata": {},
   "outputs": [
    {
     "data": {
      "text/html": [
       "<div>\n",
       "<style scoped>\n",
       "    .dataframe tbody tr th:only-of-type {\n",
       "        vertical-align: middle;\n",
       "    }\n",
       "\n",
       "    .dataframe tbody tr th {\n",
       "        vertical-align: top;\n",
       "    }\n",
       "\n",
       "    .dataframe thead th {\n",
       "        text-align: right;\n",
       "    }\n",
       "</style>\n",
       "<table border=\"1\" class=\"dataframe\">\n",
       "  <thead>\n",
       "    <tr style=\"text-align: right;\">\n",
       "      <th></th>\n",
       "      <th>country</th>\n",
       "      <th>description</th>\n",
       "      <th>designation</th>\n",
       "      <th>points</th>\n",
       "      <th>price</th>\n",
       "      <th>province</th>\n",
       "      <th>region_1</th>\n",
       "      <th>region_2</th>\n",
       "      <th>taster_name</th>\n",
       "      <th>taster_twitter_handle</th>\n",
       "      <th>title</th>\n",
       "      <th>variety</th>\n",
       "      <th>winery</th>\n",
       "    </tr>\n",
       "  </thead>\n",
       "  <tbody>\n",
       "    <tr>\n",
       "      <th>1</th>\n",
       "      <td>Italy</td>\n",
       "      <td>Aromas include tropical fruit, broom, brimston...</td>\n",
       "      <td>Vulkà Bianco</td>\n",
       "      <td>87</td>\n",
       "      <td>NaN</td>\n",
       "      <td>Sicily &amp; Sardinia</td>\n",
       "      <td>Etna</td>\n",
       "      <td>NaN</td>\n",
       "      <td>Kerin O’Keefe</td>\n",
       "      <td>@kerinokeefe</td>\n",
       "      <td>Nicosia 2013 Vulkà Bianco  (Etna)</td>\n",
       "      <td>White Blend</td>\n",
       "      <td>Nicosia</td>\n",
       "    </tr>\n",
       "    <tr>\n",
       "      <th>2</th>\n",
       "      <td>Portugal</td>\n",
       "      <td>This is ripe and fruity, a wine that is smooth...</td>\n",
       "      <td>Avidagos</td>\n",
       "      <td>87</td>\n",
       "      <td>15.0</td>\n",
       "      <td>Douro</td>\n",
       "      <td>NaN</td>\n",
       "      <td>NaN</td>\n",
       "      <td>Roger Voss</td>\n",
       "      <td>@vossroger</td>\n",
       "      <td>Quinta dos Avidagos 2011 Avidagos Red (Douro)</td>\n",
       "      <td>Portuguese Red</td>\n",
       "      <td>Quinta dos Avidagos</td>\n",
       "    </tr>\n",
       "    <tr>\n",
       "      <th>3</th>\n",
       "      <td>US</td>\n",
       "      <td>Tart and snappy, the flavors of lime flesh and...</td>\n",
       "      <td>NaN</td>\n",
       "      <td>87</td>\n",
       "      <td>14.0</td>\n",
       "      <td>Oregon</td>\n",
       "      <td>Willamette Valley</td>\n",
       "      <td>Willamette Valley</td>\n",
       "      <td>Paul Gregutt</td>\n",
       "      <td>@paulgwine</td>\n",
       "      <td>Rainstorm 2013 Pinot Gris (Willamette Valley)</td>\n",
       "      <td>Pinot Gris</td>\n",
       "      <td>Rainstorm</td>\n",
       "    </tr>\n",
       "    <tr>\n",
       "      <th>4</th>\n",
       "      <td>US</td>\n",
       "      <td>Pineapple rind, lemon pith and orange blossom ...</td>\n",
       "      <td>Reserve Late Harvest</td>\n",
       "      <td>87</td>\n",
       "      <td>13.0</td>\n",
       "      <td>Michigan</td>\n",
       "      <td>Lake Michigan Shore</td>\n",
       "      <td>NaN</td>\n",
       "      <td>Alexander Peartree</td>\n",
       "      <td>NaN</td>\n",
       "      <td>St. Julian 2013 Reserve Late Harvest Riesling ...</td>\n",
       "      <td>Riesling</td>\n",
       "      <td>St. Julian</td>\n",
       "    </tr>\n",
       "    <tr>\n",
       "      <th>5</th>\n",
       "      <td>US</td>\n",
       "      <td>Much like the regular bottling from 2012, this...</td>\n",
       "      <td>Vintner's Reserve Wild Child Block</td>\n",
       "      <td>87</td>\n",
       "      <td>65.0</td>\n",
       "      <td>Oregon</td>\n",
       "      <td>Willamette Valley</td>\n",
       "      <td>Willamette Valley</td>\n",
       "      <td>Paul Gregutt</td>\n",
       "      <td>@paulgwine</td>\n",
       "      <td>Sweet Cheeks 2012 Vintner's Reserve Wild Child...</td>\n",
       "      <td>Pinot Noir</td>\n",
       "      <td>Sweet Cheeks</td>\n",
       "    </tr>\n",
       "  </tbody>\n",
       "</table>\n",
       "</div>"
      ],
      "text/plain": [
       "    country                                        description  \\\n",
       "1     Italy  Aromas include tropical fruit, broom, brimston...   \n",
       "2  Portugal  This is ripe and fruity, a wine that is smooth...   \n",
       "3        US  Tart and snappy, the flavors of lime flesh and...   \n",
       "4        US  Pineapple rind, lemon pith and orange blossom ...   \n",
       "5        US  Much like the regular bottling from 2012, this...   \n",
       "\n",
       "                          designation  points  price           province  \\\n",
       "1                        Vulkà Bianco      87    NaN  Sicily & Sardinia   \n",
       "2                            Avidagos      87   15.0              Douro   \n",
       "3                                 NaN      87   14.0             Oregon   \n",
       "4                Reserve Late Harvest      87   13.0           Michigan   \n",
       "5  Vintner's Reserve Wild Child Block      87   65.0             Oregon   \n",
       "\n",
       "              region_1           region_2         taster_name  \\\n",
       "1                 Etna                NaN       Kerin O’Keefe   \n",
       "2                  NaN                NaN          Roger Voss   \n",
       "3    Willamette Valley  Willamette Valley        Paul Gregutt   \n",
       "4  Lake Michigan Shore                NaN  Alexander Peartree   \n",
       "5    Willamette Valley  Willamette Valley        Paul Gregutt   \n",
       "\n",
       "  taster_twitter_handle                                              title  \\\n",
       "1          @kerinokeefe                  Nicosia 2013 Vulkà Bianco  (Etna)   \n",
       "2            @vossroger      Quinta dos Avidagos 2011 Avidagos Red (Douro)   \n",
       "3           @paulgwine       Rainstorm 2013 Pinot Gris (Willamette Valley)   \n",
       "4                   NaN  St. Julian 2013 Reserve Late Harvest Riesling ...   \n",
       "5           @paulgwine   Sweet Cheeks 2012 Vintner's Reserve Wild Child...   \n",
       "\n",
       "          variety               winery  \n",
       "1     White Blend              Nicosia  \n",
       "2  Portuguese Red  Quinta dos Avidagos  \n",
       "3      Pinot Gris            Rainstorm  \n",
       "4        Riesling           St. Julian  \n",
       "5      Pinot Noir         Sweet Cheeks  "
      ]
     },
     "execution_count": 42,
     "metadata": {},
     "output_type": "execute_result"
    }
   ],
   "source": [
    "df.head()"
   ]
  },
  {
   "cell_type": "code",
   "execution_count": 43,
   "id": "93cea451",
   "metadata": {},
   "outputs": [
    {
     "data": {
      "text/plain": [
       "(129971, 13)"
      ]
     },
     "execution_count": 43,
     "metadata": {},
     "output_type": "execute_result"
    }
   ],
   "source": [
    "df.shape"
   ]
  },
  {
   "cell_type": "code",
   "execution_count": 44,
   "id": "b8966971",
   "metadata": {},
   "outputs": [
    {
     "name": "stdout",
     "output_type": "stream",
     "text": [
      "<class 'pandas.core.frame.DataFrame'>\n",
      "Int64Index: 129971 entries, 1 to 129971\n",
      "Data columns (total 13 columns):\n",
      " #   Column                 Non-Null Count   Dtype  \n",
      "---  ------                 --------------   -----  \n",
      " 0   country                129908 non-null  object \n",
      " 1   description            129971 non-null  object \n",
      " 2   designation            92506 non-null   object \n",
      " 3   points                 129971 non-null  int64  \n",
      " 4   price                  120975 non-null  float64\n",
      " 5   province               129908 non-null  object \n",
      " 6   region_1               108724 non-null  object \n",
      " 7   region_2               50511 non-null   object \n",
      " 8   taster_name            103727 non-null  object \n",
      " 9   taster_twitter_handle  98758 non-null   object \n",
      " 10  title                  129971 non-null  object \n",
      " 11  variety                129970 non-null  object \n",
      " 12  winery                 129971 non-null  object \n",
      "dtypes: float64(1), int64(1), object(11)\n",
      "memory usage: 13.9+ MB\n"
     ]
    }
   ],
   "source": [
    "df.info()"
   ]
  },
  {
   "cell_type": "markdown",
   "id": "f833e1a9",
   "metadata": {},
   "source": [
    "**Points:** the number of points WineEnthusiast rated the wine on a scale of 1-100 (though they say they only post reviews for wines that score >=80)\n",
    "\n",
    "**Title:** the title of the wine review, which often contains the vintage if you're interested in extracting that feature\n",
    "    \n",
    "**Variety:** the type of grapes used to make the wine (ie Pinot Noir)\n",
    "    \n",
    "**Description:** a few sentences from a sommelier describing the wine's taste, smell, look, feel, etc.\n",
    "    \n",
    "**Country:** the country that the wine is from\n",
    "    \n",
    "**Province:** the province or state that the wine is from\n",
    "    \n",
    "**Region 1:** the wine growing area in a province or state (ie Napa)\n",
    "    \n",
    "**Region 2:** sometimes there are more specific regions specified within a wine growing area (ie Rutherford inside the Napa Valley), but this value can sometimes be blank\n",
    "    \n",
    "**Winery**: the winery that made the wine\n",
    "    \n",
    "**Designation:** the vineyard within the winery where the grapes that made the wine are from\n",
    "    \n",
    "**Price:** the cost for a bottle of the wine\n",
    "    \n",
    "**Taster Name:** name of the person who tasted and reviewed the wine\n",
    "\n",
    "**Taster_twitter_handle:** twitter handle of taster"
   ]
  },
  {
   "cell_type": "code",
   "execution_count": null,
   "id": "05754aaa",
   "metadata": {},
   "outputs": [],
   "source": []
  },
  {
   "cell_type": "code",
   "execution_count": 45,
   "id": "b6f97348",
   "metadata": {},
   "outputs": [
    {
     "data": {
      "text/html": [
       "<div>\n",
       "<style scoped>\n",
       "    .dataframe tbody tr th:only-of-type {\n",
       "        vertical-align: middle;\n",
       "    }\n",
       "\n",
       "    .dataframe tbody tr th {\n",
       "        vertical-align: top;\n",
       "    }\n",
       "\n",
       "    .dataframe thead th {\n",
       "        text-align: right;\n",
       "    }\n",
       "</style>\n",
       "<table border=\"1\" class=\"dataframe\">\n",
       "  <thead>\n",
       "    <tr style=\"text-align: right;\">\n",
       "      <th></th>\n",
       "      <th>points</th>\n",
       "      <th>price</th>\n",
       "    </tr>\n",
       "  </thead>\n",
       "  <tbody>\n",
       "    <tr>\n",
       "      <th>count</th>\n",
       "      <td>129971.000000</td>\n",
       "      <td>120975.000000</td>\n",
       "    </tr>\n",
       "    <tr>\n",
       "      <th>mean</th>\n",
       "      <td>88.447138</td>\n",
       "      <td>35.363389</td>\n",
       "    </tr>\n",
       "    <tr>\n",
       "      <th>std</th>\n",
       "      <td>3.039730</td>\n",
       "      <td>41.022218</td>\n",
       "    </tr>\n",
       "    <tr>\n",
       "      <th>min</th>\n",
       "      <td>80.000000</td>\n",
       "      <td>4.000000</td>\n",
       "    </tr>\n",
       "    <tr>\n",
       "      <th>25%</th>\n",
       "      <td>86.000000</td>\n",
       "      <td>17.000000</td>\n",
       "    </tr>\n",
       "    <tr>\n",
       "      <th>50%</th>\n",
       "      <td>88.000000</td>\n",
       "      <td>25.000000</td>\n",
       "    </tr>\n",
       "    <tr>\n",
       "      <th>75%</th>\n",
       "      <td>91.000000</td>\n",
       "      <td>42.000000</td>\n",
       "    </tr>\n",
       "    <tr>\n",
       "      <th>max</th>\n",
       "      <td>100.000000</td>\n",
       "      <td>3300.000000</td>\n",
       "    </tr>\n",
       "  </tbody>\n",
       "</table>\n",
       "</div>"
      ],
      "text/plain": [
       "              points          price\n",
       "count  129971.000000  120975.000000\n",
       "mean       88.447138      35.363389\n",
       "std         3.039730      41.022218\n",
       "min        80.000000       4.000000\n",
       "25%        86.000000      17.000000\n",
       "50%        88.000000      25.000000\n",
       "75%        91.000000      42.000000\n",
       "max       100.000000    3300.000000"
      ]
     },
     "execution_count": 45,
     "metadata": {},
     "output_type": "execute_result"
    }
   ],
   "source": [
    "df.describe()"
   ]
  },
  {
   "cell_type": "code",
   "execution_count": 46,
   "id": "e9925a23",
   "metadata": {},
   "outputs": [
    {
     "data": {
      "text/plain": [
       "country                     63\n",
       "description                  0\n",
       "designation              37465\n",
       "points                       0\n",
       "price                     8996\n",
       "province                    63\n",
       "region_1                 21247\n",
       "region_2                 79460\n",
       "taster_name              26244\n",
       "taster_twitter_handle    31213\n",
       "title                        0\n",
       "variety                      1\n",
       "winery                       0\n",
       "dtype: int64"
      ]
     },
     "execution_count": 46,
     "metadata": {},
     "output_type": "execute_result"
    }
   ],
   "source": [
    "df.isna().sum()"
   ]
  },
  {
   "cell_type": "code",
   "execution_count": 47,
   "id": "e2df0fd8",
   "metadata": {},
   "outputs": [
    {
     "data": {
      "text/plain": [
       "Roger Voss            25514\n",
       "Michael Schachner     15134\n",
       "Kerin O’Keefe         10776\n",
       "Virginie Boone         9537\n",
       "Paul Gregutt           9532\n",
       "Matt Kettmann          6332\n",
       "Joe Czerwinski         5147\n",
       "Sean P. Sullivan       4966\n",
       "Anna Lee C. Iijima     4415\n",
       "Jim Gordon             4177\n",
       "Anne Krebiehl MW       3685\n",
       "Lauren Buzzeo          1835\n",
       "Susan Kostrzewa        1085\n",
       "Mike DeSimone           514\n",
       "Jeff Jenssen            491\n",
       "Alexander Peartree      415\n",
       "Carrie Dykes            139\n",
       "Fiona Adams              27\n",
       "Christina Pickard         6\n",
       "Name: taster_name, dtype: int64"
      ]
     },
     "execution_count": 47,
     "metadata": {},
     "output_type": "execute_result"
    }
   ],
   "source": [
    "df.taster_name.value_counts()\n"
   ]
  },
  {
   "cell_type": "code",
   "execution_count": 48,
   "id": "1938d5ef",
   "metadata": {},
   "outputs": [
    {
     "data": {
      "text/plain": [
       "Reserve                          2009\n",
       "Estate                           1322\n",
       "Reserva                          1259\n",
       "Riserva                           698\n",
       "Estate Grown                      621\n",
       "                                 ... \n",
       "Ilercavònia                         1\n",
       "VA                                  1\n",
       "Sein                                1\n",
       "Vigna Riserva                       1\n",
       "Lieu-dit Harth Cuvée Caroline       1\n",
       "Name: designation, Length: 37979, dtype: int64"
      ]
     },
     "execution_count": 48,
     "metadata": {},
     "output_type": "execute_result"
    }
   ],
   "source": [
    "df.designation.value_counts()"
   ]
  },
  {
   "cell_type": "code",
   "execution_count": null,
   "id": "d320cc3a",
   "metadata": {},
   "outputs": [],
   "source": []
  },
  {
   "cell_type": "code",
   "execution_count": 49,
   "id": "ee6e8a05",
   "metadata": {},
   "outputs": [
    {
     "data": {
      "text/plain": [
       "Reserve                          2009\n",
       "Estate                           1322\n",
       "Reserva                          1259\n",
       "Riserva                           698\n",
       "Estate Grown                      621\n",
       "                                 ... \n",
       "Ilercavònia                         1\n",
       "VA                                  1\n",
       "Sein                                1\n",
       "Vigna Riserva                       1\n",
       "Lieu-dit Harth Cuvée Caroline       1\n",
       "Name: designation, Length: 37979, dtype: int64"
      ]
     },
     "execution_count": 49,
     "metadata": {},
     "output_type": "execute_result"
    }
   ],
   "source": [
    "df.designation.value_counts()"
   ]
  },
  {
   "cell_type": "code",
   "execution_count": 50,
   "id": "502df86b",
   "metadata": {},
   "outputs": [],
   "source": [
    "df.drop([\"taster_twitter_handle\",'taster_name','designation','region_2','title'],axis=1,inplace=True)"
   ]
  },
  {
   "cell_type": "code",
   "execution_count": 51,
   "id": "cc72f5a8",
   "metadata": {},
   "outputs": [
    {
     "data": {
      "text/html": [
       "<div>\n",
       "<style scoped>\n",
       "    .dataframe tbody tr th:only-of-type {\n",
       "        vertical-align: middle;\n",
       "    }\n",
       "\n",
       "    .dataframe tbody tr th {\n",
       "        vertical-align: top;\n",
       "    }\n",
       "\n",
       "    .dataframe thead th {\n",
       "        text-align: right;\n",
       "    }\n",
       "</style>\n",
       "<table border=\"1\" class=\"dataframe\">\n",
       "  <thead>\n",
       "    <tr style=\"text-align: right;\">\n",
       "      <th></th>\n",
       "      <th>country</th>\n",
       "      <th>description</th>\n",
       "      <th>points</th>\n",
       "      <th>price</th>\n",
       "      <th>province</th>\n",
       "      <th>region_1</th>\n",
       "      <th>variety</th>\n",
       "      <th>winery</th>\n",
       "    </tr>\n",
       "  </thead>\n",
       "  <tbody>\n",
       "    <tr>\n",
       "      <th>1</th>\n",
       "      <td>Italy</td>\n",
       "      <td>Aromas include tropical fruit, broom, brimston...</td>\n",
       "      <td>87</td>\n",
       "      <td>NaN</td>\n",
       "      <td>Sicily &amp; Sardinia</td>\n",
       "      <td>Etna</td>\n",
       "      <td>White Blend</td>\n",
       "      <td>Nicosia</td>\n",
       "    </tr>\n",
       "    <tr>\n",
       "      <th>2</th>\n",
       "      <td>Portugal</td>\n",
       "      <td>This is ripe and fruity, a wine that is smooth...</td>\n",
       "      <td>87</td>\n",
       "      <td>15.0</td>\n",
       "      <td>Douro</td>\n",
       "      <td>NaN</td>\n",
       "      <td>Portuguese Red</td>\n",
       "      <td>Quinta dos Avidagos</td>\n",
       "    </tr>\n",
       "    <tr>\n",
       "      <th>3</th>\n",
       "      <td>US</td>\n",
       "      <td>Tart and snappy, the flavors of lime flesh and...</td>\n",
       "      <td>87</td>\n",
       "      <td>14.0</td>\n",
       "      <td>Oregon</td>\n",
       "      <td>Willamette Valley</td>\n",
       "      <td>Pinot Gris</td>\n",
       "      <td>Rainstorm</td>\n",
       "    </tr>\n",
       "    <tr>\n",
       "      <th>4</th>\n",
       "      <td>US</td>\n",
       "      <td>Pineapple rind, lemon pith and orange blossom ...</td>\n",
       "      <td>87</td>\n",
       "      <td>13.0</td>\n",
       "      <td>Michigan</td>\n",
       "      <td>Lake Michigan Shore</td>\n",
       "      <td>Riesling</td>\n",
       "      <td>St. Julian</td>\n",
       "    </tr>\n",
       "    <tr>\n",
       "      <th>5</th>\n",
       "      <td>US</td>\n",
       "      <td>Much like the regular bottling from 2012, this...</td>\n",
       "      <td>87</td>\n",
       "      <td>65.0</td>\n",
       "      <td>Oregon</td>\n",
       "      <td>Willamette Valley</td>\n",
       "      <td>Pinot Noir</td>\n",
       "      <td>Sweet Cheeks</td>\n",
       "    </tr>\n",
       "  </tbody>\n",
       "</table>\n",
       "</div>"
      ],
      "text/plain": [
       "    country                                        description  points  price  \\\n",
       "1     Italy  Aromas include tropical fruit, broom, brimston...      87    NaN   \n",
       "2  Portugal  This is ripe and fruity, a wine that is smooth...      87   15.0   \n",
       "3        US  Tart and snappy, the flavors of lime flesh and...      87   14.0   \n",
       "4        US  Pineapple rind, lemon pith and orange blossom ...      87   13.0   \n",
       "5        US  Much like the regular bottling from 2012, this...      87   65.0   \n",
       "\n",
       "            province             region_1         variety               winery  \n",
       "1  Sicily & Sardinia                 Etna     White Blend              Nicosia  \n",
       "2              Douro                  NaN  Portuguese Red  Quinta dos Avidagos  \n",
       "3             Oregon    Willamette Valley      Pinot Gris            Rainstorm  \n",
       "4           Michigan  Lake Michigan Shore        Riesling           St. Julian  \n",
       "5             Oregon    Willamette Valley      Pinot Noir         Sweet Cheeks  "
      ]
     },
     "execution_count": 51,
     "metadata": {},
     "output_type": "execute_result"
    }
   ],
   "source": [
    "df.head(5)"
   ]
  },
  {
   "cell_type": "code",
   "execution_count": 52,
   "id": "7b13763d",
   "metadata": {},
   "outputs": [],
   "source": [
    "max_reg=df.region_1.value_counts().max()\n"
   ]
  },
  {
   "cell_type": "code",
   "execution_count": 53,
   "id": "d91af0f9",
   "metadata": {},
   "outputs": [],
   "source": [
    "df['variety'].fillna(method='bfill',inplace=True)\n",
    "df['region_1'].fillna(value=max_reg,inplace=True)"
   ]
  },
  {
   "cell_type": "code",
   "execution_count": 54,
   "id": "0138f2f1",
   "metadata": {},
   "outputs": [
    {
     "data": {
      "text/plain": [
       "25.0"
      ]
     },
     "execution_count": 54,
     "metadata": {},
     "output_type": "execute_result"
    }
   ],
   "source": [
    "\n",
    "mean=df.price.median()\n",
    "df['price'].fillna(value=mean,inplace=True)\n",
    "df.dropna(subset=[\"country\",\"province\"],inplace=True)\n",
    "mean"
   ]
  },
  {
   "cell_type": "code",
   "execution_count": 55,
   "id": "fb4ed76a",
   "metadata": {},
   "outputs": [
    {
     "data": {
      "text/html": [
       "<div>\n",
       "<style scoped>\n",
       "    .dataframe tbody tr th:only-of-type {\n",
       "        vertical-align: middle;\n",
       "    }\n",
       "\n",
       "    .dataframe tbody tr th {\n",
       "        vertical-align: top;\n",
       "    }\n",
       "\n",
       "    .dataframe thead th {\n",
       "        text-align: right;\n",
       "    }\n",
       "</style>\n",
       "<table border=\"1\" class=\"dataframe\">\n",
       "  <thead>\n",
       "    <tr style=\"text-align: right;\">\n",
       "      <th></th>\n",
       "      <th>country</th>\n",
       "      <th>description</th>\n",
       "      <th>points</th>\n",
       "      <th>price</th>\n",
       "      <th>province</th>\n",
       "      <th>region_1</th>\n",
       "      <th>variety</th>\n",
       "      <th>winery</th>\n",
       "    </tr>\n",
       "  </thead>\n",
       "  <tbody>\n",
       "    <tr>\n",
       "      <th>1</th>\n",
       "      <td>Italy</td>\n",
       "      <td>Aromas include tropical fruit, broom, brimston...</td>\n",
       "      <td>87</td>\n",
       "      <td>25.0</td>\n",
       "      <td>Sicily &amp; Sardinia</td>\n",
       "      <td>Etna</td>\n",
       "      <td>White Blend</td>\n",
       "      <td>Nicosia</td>\n",
       "    </tr>\n",
       "    <tr>\n",
       "      <th>2</th>\n",
       "      <td>Portugal</td>\n",
       "      <td>This is ripe and fruity, a wine that is smooth...</td>\n",
       "      <td>87</td>\n",
       "      <td>15.0</td>\n",
       "      <td>Douro</td>\n",
       "      <td>4480</td>\n",
       "      <td>Portuguese Red</td>\n",
       "      <td>Quinta dos Avidagos</td>\n",
       "    </tr>\n",
       "    <tr>\n",
       "      <th>3</th>\n",
       "      <td>US</td>\n",
       "      <td>Tart and snappy, the flavors of lime flesh and...</td>\n",
       "      <td>87</td>\n",
       "      <td>14.0</td>\n",
       "      <td>Oregon</td>\n",
       "      <td>Willamette Valley</td>\n",
       "      <td>Pinot Gris</td>\n",
       "      <td>Rainstorm</td>\n",
       "    </tr>\n",
       "    <tr>\n",
       "      <th>4</th>\n",
       "      <td>US</td>\n",
       "      <td>Pineapple rind, lemon pith and orange blossom ...</td>\n",
       "      <td>87</td>\n",
       "      <td>13.0</td>\n",
       "      <td>Michigan</td>\n",
       "      <td>Lake Michigan Shore</td>\n",
       "      <td>Riesling</td>\n",
       "      <td>St. Julian</td>\n",
       "    </tr>\n",
       "    <tr>\n",
       "      <th>5</th>\n",
       "      <td>US</td>\n",
       "      <td>Much like the regular bottling from 2012, this...</td>\n",
       "      <td>87</td>\n",
       "      <td>65.0</td>\n",
       "      <td>Oregon</td>\n",
       "      <td>Willamette Valley</td>\n",
       "      <td>Pinot Noir</td>\n",
       "      <td>Sweet Cheeks</td>\n",
       "    </tr>\n",
       "    <tr>\n",
       "      <th>...</th>\n",
       "      <td>...</td>\n",
       "      <td>...</td>\n",
       "      <td>...</td>\n",
       "      <td>...</td>\n",
       "      <td>...</td>\n",
       "      <td>...</td>\n",
       "      <td>...</td>\n",
       "      <td>...</td>\n",
       "    </tr>\n",
       "    <tr>\n",
       "      <th>129967</th>\n",
       "      <td>Germany</td>\n",
       "      <td>Notes of honeysuckle and cantaloupe sweeten th...</td>\n",
       "      <td>90</td>\n",
       "      <td>28.0</td>\n",
       "      <td>Mosel</td>\n",
       "      <td>4480</td>\n",
       "      <td>Riesling</td>\n",
       "      <td>Dr. H. Thanisch (Erben Müller-Burggraef)</td>\n",
       "    </tr>\n",
       "    <tr>\n",
       "      <th>129968</th>\n",
       "      <td>US</td>\n",
       "      <td>Citation is given as much as a decade of bottl...</td>\n",
       "      <td>90</td>\n",
       "      <td>75.0</td>\n",
       "      <td>Oregon</td>\n",
       "      <td>Oregon</td>\n",
       "      <td>Pinot Noir</td>\n",
       "      <td>Citation</td>\n",
       "    </tr>\n",
       "    <tr>\n",
       "      <th>129969</th>\n",
       "      <td>France</td>\n",
       "      <td>Well-drained gravel soil gives this wine its c...</td>\n",
       "      <td>90</td>\n",
       "      <td>30.0</td>\n",
       "      <td>Alsace</td>\n",
       "      <td>Alsace</td>\n",
       "      <td>Gewürztraminer</td>\n",
       "      <td>Domaine Gresser</td>\n",
       "    </tr>\n",
       "    <tr>\n",
       "      <th>129970</th>\n",
       "      <td>France</td>\n",
       "      <td>A dry style of Pinot Gris, this is crisp with ...</td>\n",
       "      <td>90</td>\n",
       "      <td>32.0</td>\n",
       "      <td>Alsace</td>\n",
       "      <td>Alsace</td>\n",
       "      <td>Pinot Gris</td>\n",
       "      <td>Domaine Marcel Deiss</td>\n",
       "    </tr>\n",
       "    <tr>\n",
       "      <th>129971</th>\n",
       "      <td>France</td>\n",
       "      <td>Big, rich and off-dry, this is powered by inte...</td>\n",
       "      <td>90</td>\n",
       "      <td>21.0</td>\n",
       "      <td>Alsace</td>\n",
       "      <td>Alsace</td>\n",
       "      <td>Gewürztraminer</td>\n",
       "      <td>Domaine Schoffit</td>\n",
       "    </tr>\n",
       "  </tbody>\n",
       "</table>\n",
       "<p>129908 rows × 8 columns</p>\n",
       "</div>"
      ],
      "text/plain": [
       "         country                                        description  points  \\\n",
       "1          Italy  Aromas include tropical fruit, broom, brimston...      87   \n",
       "2       Portugal  This is ripe and fruity, a wine that is smooth...      87   \n",
       "3             US  Tart and snappy, the flavors of lime flesh and...      87   \n",
       "4             US  Pineapple rind, lemon pith and orange blossom ...      87   \n",
       "5             US  Much like the regular bottling from 2012, this...      87   \n",
       "...          ...                                                ...     ...   \n",
       "129967   Germany  Notes of honeysuckle and cantaloupe sweeten th...      90   \n",
       "129968        US  Citation is given as much as a decade of bottl...      90   \n",
       "129969    France  Well-drained gravel soil gives this wine its c...      90   \n",
       "129970    France  A dry style of Pinot Gris, this is crisp with ...      90   \n",
       "129971    France  Big, rich and off-dry, this is powered by inte...      90   \n",
       "\n",
       "        price           province             region_1         variety  \\\n",
       "1        25.0  Sicily & Sardinia                 Etna     White Blend   \n",
       "2        15.0              Douro                 4480  Portuguese Red   \n",
       "3        14.0             Oregon    Willamette Valley      Pinot Gris   \n",
       "4        13.0           Michigan  Lake Michigan Shore        Riesling   \n",
       "5        65.0             Oregon    Willamette Valley      Pinot Noir   \n",
       "...       ...                ...                  ...             ...   \n",
       "129967   28.0              Mosel                 4480        Riesling   \n",
       "129968   75.0             Oregon               Oregon      Pinot Noir   \n",
       "129969   30.0             Alsace               Alsace  Gewürztraminer   \n",
       "129970   32.0             Alsace               Alsace      Pinot Gris   \n",
       "129971   21.0             Alsace               Alsace  Gewürztraminer   \n",
       "\n",
       "                                          winery  \n",
       "1                                        Nicosia  \n",
       "2                            Quinta dos Avidagos  \n",
       "3                                      Rainstorm  \n",
       "4                                     St. Julian  \n",
       "5                                   Sweet Cheeks  \n",
       "...                                          ...  \n",
       "129967  Dr. H. Thanisch (Erben Müller-Burggraef)  \n",
       "129968                                  Citation  \n",
       "129969                           Domaine Gresser  \n",
       "129970                      Domaine Marcel Deiss  \n",
       "129971                          Domaine Schoffit  \n",
       "\n",
       "[129908 rows x 8 columns]"
      ]
     },
     "execution_count": 55,
     "metadata": {},
     "output_type": "execute_result"
    }
   ],
   "source": [
    "df"
   ]
  },
  {
   "cell_type": "code",
   "execution_count": 56,
   "id": "5b9c3373",
   "metadata": {},
   "outputs": [
    {
     "data": {
      "text/plain": [
       "country        0\n",
       "description    0\n",
       "points         0\n",
       "price          0\n",
       "province       0\n",
       "region_1       0\n",
       "variety        0\n",
       "winery         0\n",
       "dtype: int64"
      ]
     },
     "execution_count": 56,
     "metadata": {},
     "output_type": "execute_result"
    }
   ],
   "source": [
    "df.isnull().sum()"
   ]
  },
  {
   "cell_type": "code",
   "execution_count": 57,
   "id": "a6a74aca",
   "metadata": {},
   "outputs": [
    {
     "data": {
      "text/html": [
       "<div>\n",
       "<style scoped>\n",
       "    .dataframe tbody tr th:only-of-type {\n",
       "        vertical-align: middle;\n",
       "    }\n",
       "\n",
       "    .dataframe tbody tr th {\n",
       "        vertical-align: top;\n",
       "    }\n",
       "\n",
       "    .dataframe thead th {\n",
       "        text-align: right;\n",
       "    }\n",
       "</style>\n",
       "<table border=\"1\" class=\"dataframe\">\n",
       "  <thead>\n",
       "    <tr style=\"text-align: right;\">\n",
       "      <th></th>\n",
       "      <th>country</th>\n",
       "      <th>description</th>\n",
       "      <th>points</th>\n",
       "      <th>price</th>\n",
       "      <th>province</th>\n",
       "      <th>region_1</th>\n",
       "      <th>variety</th>\n",
       "      <th>winery</th>\n",
       "    </tr>\n",
       "  </thead>\n",
       "  <tbody>\n",
       "    <tr>\n",
       "      <th>1</th>\n",
       "      <td>Italy</td>\n",
       "      <td>Aromas include tropical fruit, broom, brimston...</td>\n",
       "      <td>87</td>\n",
       "      <td>25.0</td>\n",
       "      <td>Sicily &amp; Sardinia</td>\n",
       "      <td>Etna</td>\n",
       "      <td>White Blend</td>\n",
       "      <td>Nicosia</td>\n",
       "    </tr>\n",
       "    <tr>\n",
       "      <th>2</th>\n",
       "      <td>Portugal</td>\n",
       "      <td>This is ripe and fruity, a wine that is smooth...</td>\n",
       "      <td>87</td>\n",
       "      <td>15.0</td>\n",
       "      <td>Douro</td>\n",
       "      <td>4480</td>\n",
       "      <td>Portuguese Red</td>\n",
       "      <td>Quinta dos Avidagos</td>\n",
       "    </tr>\n",
       "    <tr>\n",
       "      <th>3</th>\n",
       "      <td>US</td>\n",
       "      <td>Tart and snappy, the flavors of lime flesh and...</td>\n",
       "      <td>87</td>\n",
       "      <td>14.0</td>\n",
       "      <td>Oregon</td>\n",
       "      <td>Willamette Valley</td>\n",
       "      <td>Pinot Gris</td>\n",
       "      <td>Rainstorm</td>\n",
       "    </tr>\n",
       "    <tr>\n",
       "      <th>4</th>\n",
       "      <td>US</td>\n",
       "      <td>Pineapple rind, lemon pith and orange blossom ...</td>\n",
       "      <td>87</td>\n",
       "      <td>13.0</td>\n",
       "      <td>Michigan</td>\n",
       "      <td>Lake Michigan Shore</td>\n",
       "      <td>Riesling</td>\n",
       "      <td>St. Julian</td>\n",
       "    </tr>\n",
       "    <tr>\n",
       "      <th>5</th>\n",
       "      <td>US</td>\n",
       "      <td>Much like the regular bottling from 2012, this...</td>\n",
       "      <td>87</td>\n",
       "      <td>65.0</td>\n",
       "      <td>Oregon</td>\n",
       "      <td>Willamette Valley</td>\n",
       "      <td>Pinot Noir</td>\n",
       "      <td>Sweet Cheeks</td>\n",
       "    </tr>\n",
       "  </tbody>\n",
       "</table>\n",
       "</div>"
      ],
      "text/plain": [
       "    country                                        description  points  price  \\\n",
       "1     Italy  Aromas include tropical fruit, broom, brimston...      87   25.0   \n",
       "2  Portugal  This is ripe and fruity, a wine that is smooth...      87   15.0   \n",
       "3        US  Tart and snappy, the flavors of lime flesh and...      87   14.0   \n",
       "4        US  Pineapple rind, lemon pith and orange blossom ...      87   13.0   \n",
       "5        US  Much like the regular bottling from 2012, this...      87   65.0   \n",
       "\n",
       "            province             region_1         variety               winery  \n",
       "1  Sicily & Sardinia                 Etna     White Blend              Nicosia  \n",
       "2              Douro                 4480  Portuguese Red  Quinta dos Avidagos  \n",
       "3             Oregon    Willamette Valley      Pinot Gris            Rainstorm  \n",
       "4           Michigan  Lake Michigan Shore        Riesling           St. Julian  \n",
       "5             Oregon    Willamette Valley      Pinot Noir         Sweet Cheeks  "
      ]
     },
     "execution_count": 57,
     "metadata": {},
     "output_type": "execute_result"
    }
   ],
   "source": [
    "df.head()"
   ]
  },
  {
   "cell_type": "code",
   "execution_count": 58,
   "id": "6c49b6fe",
   "metadata": {},
   "outputs": [
    {
     "data": {
      "text/plain": [
       "US                        54504\n",
       "France                    22093\n",
       "Italy                     19540\n",
       "Spain                      6645\n",
       "Portugal                   5691\n",
       "Chile                      4472\n",
       "Argentina                  3800\n",
       "Austria                    3345\n",
       "Australia                  2329\n",
       "Germany                    2165\n",
       "New Zealand                1419\n",
       "South Africa               1401\n",
       "Israel                      505\n",
       "Greece                      466\n",
       "Canada                      257\n",
       "Hungary                     146\n",
       "Bulgaria                    141\n",
       "Romania                     120\n",
       "Uruguay                     109\n",
       "Turkey                       90\n",
       "Slovenia                     87\n",
       "Georgia                      86\n",
       "England                      74\n",
       "Croatia                      73\n",
       "Mexico                       70\n",
       "Moldova                      59\n",
       "Brazil                       52\n",
       "Lebanon                      35\n",
       "Morocco                      28\n",
       "Peru                         16\n",
       "Ukraine                      14\n",
       "Serbia                       12\n",
       "Czech Republic               12\n",
       "Macedonia                    12\n",
       "Cyprus                       11\n",
       "India                         9\n",
       "Switzerland                   7\n",
       "Luxembourg                    6\n",
       "Bosnia and Herzegovina        2\n",
       "Armenia                       2\n",
       "Slovakia                      1\n",
       "China                         1\n",
       "Egypt                         1\n",
       "Name: country, dtype: int64"
      ]
     },
     "execution_count": 58,
     "metadata": {},
     "output_type": "execute_result"
    }
   ],
   "source": [
    "df.country.value_counts()"
   ]
  },
  {
   "cell_type": "markdown",
   "id": "49371144",
   "metadata": {},
   "source": [
    "US                       \n",
    "France                    \n",
    "Italy                     \n",
    "Spain            "
   ]
  },
  {
   "cell_type": "code",
   "execution_count": null,
   "id": "b688b503",
   "metadata": {},
   "outputs": [],
   "source": []
  },
  {
   "cell_type": "code",
   "execution_count": 59,
   "id": "8c2a85af",
   "metadata": {},
   "outputs": [
    {
     "data": {
      "text/plain": [
       "{'China': 89,\n",
       " 'Slovakia': 87,\n",
       " 'Egypt': 84,\n",
       " 'Armenia': 87,\n",
       " 'Bosnia and Herzegovina': 85}"
      ]
     },
     "execution_count": 59,
     "metadata": {},
     "output_type": "execute_result"
    }
   ],
   "source": [
    "c=df.groupby(df['country'])['points'].count().sort_values(ascending=True).index[:5]\n",
    "\n",
    "# Let's create a dictionary, the functional way\n",
    " \n",
    "# Create your dictionary class\n",
    "class my_dictionary(dict):\n",
    " \n",
    "  # __init__ function\n",
    "    def __init__(self):\n",
    "        self = dict()\n",
    "\n",
    "      # Function to add key:value\n",
    "    def add(self, key, value):\n",
    "        self[key] = value\n",
    "\n",
    "\n",
    "price = my_dictionary()\n",
    "points= my_dictionary()\n",
    "for i in c:  \n",
    "    price.add(i,df[df['country']==i]['price'].sort_values(ascending=False).max())\n",
    "    points.add(i,df[df['country']==i]['points'].sort_values(ascending=False).max())\n",
    "\n",
    "\n",
    "pricelow = my_dictionary()\n",
    "pointslow= my_dictionary()\n",
    "for i in c:  \n",
    "    pricelow.add(i,df[df['country']==i]['price'].sort_values(ascending=False).min())\n",
    "    pointslow.add(i,df[df['country']==i]['points'].sort_values(ascending=False).min())\n",
    "\n",
    "\n",
    "pointslow"
   ]
  },
  {
   "cell_type": "code",
   "execution_count": 60,
   "id": "7330bcd6",
   "metadata": {},
   "outputs": [
    {
     "data": {
      "text/plain": [
       "{'China': 18.0,\n",
       " 'Slovakia': 16.0,\n",
       " 'Egypt': 25.0,\n",
       " 'Armenia': 14.0,\n",
       " 'Bosnia and Herzegovina': 12.0}"
      ]
     },
     "execution_count": 60,
     "metadata": {},
     "output_type": "execute_result"
    }
   ],
   "source": [
    "pricelow"
   ]
  },
  {
   "cell_type": "code",
   "execution_count": 61,
   "id": "6f6fd197",
   "metadata": {},
   "outputs": [
    {
     "data": {
      "text/plain": [
       "{'China': 89,\n",
       " 'Slovakia': 87,\n",
       " 'Egypt': 84,\n",
       " 'Armenia': 88,\n",
       " 'Bosnia and Herzegovina': 88}"
      ]
     },
     "execution_count": 61,
     "metadata": {},
     "output_type": "execute_result"
    }
   ],
   "source": [
    "points"
   ]
  },
  {
   "cell_type": "code",
   "execution_count": 62,
   "id": "51d55fd1",
   "metadata": {},
   "outputs": [
    {
     "data": {
      "text/plain": [
       "California        36247\n",
       "Washington         8639\n",
       "Bordeaux           5941\n",
       "Tuscany            5897\n",
       "Oregon             5373\n",
       "                  ...  \n",
       "Messinia              1\n",
       "Markopoulo            1\n",
       "Paardeberg            1\n",
       "Krania Olympus        1\n",
       "Neuchâtel             1\n",
       "Name: province, Length: 425, dtype: int64"
      ]
     },
     "execution_count": 62,
     "metadata": {},
     "output_type": "execute_result"
    }
   ],
   "source": [
    "df.province.value_counts()"
   ]
  },
  {
   "cell_type": "code",
   "execution_count": 63,
   "id": "e9472430",
   "metadata": {},
   "outputs": [
    {
     "data": {
      "text/plain": [
       "Index(['California', 'Washington', 'Bordeaux', 'Tuscany', 'Oregon', 'Burgundy',\n",
       "       'Northern Spain', 'Piedmont', 'Mendoza Province', 'Veneto'],\n",
       "      dtype='object', name='province')"
      ]
     },
     "execution_count": 63,
     "metadata": {},
     "output_type": "execute_result"
    }
   ],
   "source": [
    "p=df.groupby(df['province'])['points'].count().sort_values(ascending=False).index[:10]\n",
    "\n",
    "# Let's create a dictionary, the functional way\n",
    " \n",
    "price_province = my_dictionary()\n",
    "points_province= my_dictionary()\n",
    "for i in p:  \n",
    "    price_province.add(i,df[df['province']==i]['price'].sort_values(ascending=False).max())\n",
    "    points_province.add(i,df[df['province']==i]['points'].sort_values(ascending=False).max())\n",
    "\n",
    "p"
   ]
  },
  {
   "cell_type": "code",
   "execution_count": 64,
   "id": "779f9ef7",
   "metadata": {},
   "outputs": [
    {
     "data": {
      "text/plain": [
       "{'California': 2013.0,\n",
       " 'Washington': 240.0,\n",
       " 'Bordeaux': 3300.0,\n",
       " 'Tuscany': 900.0,\n",
       " 'Oregon': 275.0,\n",
       " 'Burgundy': 2500.0,\n",
       " 'Northern Spain': 600.0,\n",
       " 'Piedmont': 595.0,\n",
       " 'Mendoza Province': 230.0,\n",
       " 'Veneto': 530.0}"
      ]
     },
     "execution_count": 64,
     "metadata": {},
     "output_type": "execute_result"
    }
   ],
   "source": [
    "price_province"
   ]
  },
  {
   "cell_type": "code",
   "execution_count": 65,
   "id": "1286c5ca",
   "metadata": {},
   "outputs": [
    {
     "data": {
      "text/plain": [
       "{'California': 100,\n",
       " 'Washington': 100,\n",
       " 'Bordeaux': 100,\n",
       " 'Tuscany': 100,\n",
       " 'Oregon': 99,\n",
       " 'Burgundy': 99,\n",
       " 'Northern Spain': 98,\n",
       " 'Piedmont': 99,\n",
       " 'Mendoza Province': 97,\n",
       " 'Veneto': 96}"
      ]
     },
     "execution_count": 65,
     "metadata": {},
     "output_type": "execute_result"
    }
   ],
   "source": [
    "points_province"
   ]
  },
  {
   "cell_type": "code",
   "execution_count": 66,
   "id": "45903783",
   "metadata": {},
   "outputs": [
    {
     "data": {
      "text/plain": [
       "country        0\n",
       "description    0\n",
       "points         0\n",
       "price          0\n",
       "province       0\n",
       "region_1       0\n",
       "variety        0\n",
       "winery         0\n",
       "dtype: int64"
      ]
     },
     "execution_count": 66,
     "metadata": {},
     "output_type": "execute_result"
    }
   ],
   "source": [
    "df.isnull().sum()"
   ]
  },
  {
   "cell_type": "code",
   "execution_count": 67,
   "id": "cbfa59e3",
   "metadata": {},
   "outputs": [
    {
     "data": {
      "text/plain": [
       "{4480: 1100.0,\n",
       " 'Napa Valley': 625.0,\n",
       " 'Columbia Valley (WA)': 240.0,\n",
       " 'Russian River Valley': 125.0,\n",
       " 'California': 175.0}"
      ]
     },
     "execution_count": 67,
     "metadata": {},
     "output_type": "execute_result"
    }
   ],
   "source": [
    "region_1=df.groupby(df['region_1'])['points'].count().sort_values(ascending=False).index[:5]\n",
    "\n",
    "# Let's create a dictionary, the functional way\n",
    " \n",
    "price_region_1 = my_dictionary()\n",
    "points_region_1= my_dictionary()\n",
    "for i in region_1:  \n",
    "    price_region_1.add(i,df[df['region_1']==i]['price'].sort_values(ascending=False).max())\n",
    "    points_region_1.add(i,df[df['region_1']==i]['points'].sort_values(ascending=False).max())\n",
    "\n",
    "price_region_1"
   ]
  },
  {
   "cell_type": "code",
   "execution_count": 68,
   "id": "e951e9e6",
   "metadata": {},
   "outputs": [
    {
     "data": {
      "text/plain": [
       "{4480: 100,\n",
       " 'Napa Valley': 100,\n",
       " 'Columbia Valley (WA)': 100,\n",
       " 'Russian River Valley': 98,\n",
       " 'California': 97}"
      ]
     },
     "execution_count": 68,
     "metadata": {},
     "output_type": "execute_result"
    }
   ],
   "source": [
    "points_region_1"
   ]
  },
  {
   "cell_type": "code",
   "execution_count": 69,
   "id": "13455ecc",
   "metadata": {},
   "outputs": [
    {
     "data": {
      "text/plain": [
       "{'Wines & Winemakers': 77.0,\n",
       " 'Testarossa': 87.0,\n",
       " 'DFJ Vinhos': 50.0,\n",
       " 'Williams Selyem': 125.0,\n",
       " 'Louis Latour': 650.0,\n",
       " 'Georges Duboeuf': 43.0,\n",
       " 'Chateau Ste. Michelle': 65.0,\n",
       " 'Concha y Toro': 200.0,\n",
       " 'Columbia Crest': 45.0,\n",
       " 'Kendall-Jackson': 125.0}"
      ]
     },
     "execution_count": 69,
     "metadata": {},
     "output_type": "execute_result"
    }
   ],
   "source": [
    "winery=df.groupby(df['winery'])['points'].count().sort_values(ascending=False).index[:10]\n",
    "\n",
    "# Let's create a dictionary, the functional way\n",
    " \n",
    "price_winery = my_dictionary()\n",
    "points_winery= my_dictionary()\n",
    "for i in winery:  \n",
    "    price_winery.add(i,df[df['winery']==i]['price'].sort_values(ascending=False).max())\n",
    "    points_winery.add(i,df[df['winery']==i]['points'].sort_values(ascending=False).max())\n",
    "price_winery"
   ]
  },
  {
   "cell_type": "code",
   "execution_count": 70,
   "id": "f9017376",
   "metadata": {
    "scrolled": true
   },
   "outputs": [
    {
     "data": {
      "text/plain": [
       "{'Wines & Winemakers': 93,\n",
       " 'Testarossa': 96,\n",
       " 'DFJ Vinhos': 92,\n",
       " 'Williams Selyem': 99,\n",
       " 'Louis Latour': 97,\n",
       " 'Georges Duboeuf': 92,\n",
       " 'Chateau Ste. Michelle': 96,\n",
       " 'Concha y Toro': 93,\n",
       " 'Columbia Crest': 92,\n",
       " 'Kendall-Jackson': 97}"
      ]
     },
     "execution_count": 70,
     "metadata": {},
     "output_type": "execute_result"
    }
   ],
   "source": [
    "points_winery"
   ]
  },
  {
   "cell_type": "code",
   "execution_count": 71,
   "id": "3e62a54d",
   "metadata": {},
   "outputs": [
    {
     "data": {
      "text/plain": [
       "{'Žilavka': 15.0,\n",
       " 'Prunelard': 23.0,\n",
       " 'Premsal': 15.0,\n",
       " 'Piquepoul Blanc': 13.0,\n",
       " 'Pinotage-Merlot': 10.0}"
      ]
     },
     "execution_count": 71,
     "metadata": {},
     "output_type": "execute_result"
    }
   ],
   "source": [
    "\n",
    "variety=df.groupby(df['variety'])['points'].count().sort_values(ascending=False).index[:5]\n",
    "varietylow=df.groupby(df['variety'])['points'].count().sort_values(ascending=True).index[:5]\n",
    "# Let's create a dictionary, the functional way\n",
    " \n",
    "price_variety = my_dictionary()\n",
    " \n",
    "price_varietylow = my_dictionary()\n",
    "points_variety= my_dictionary()\n",
    "points_varietylow= my_dictionary()\n",
    "for i in varietylow:  \n",
    "    price_variety.add(i,df[df['variety']==i]['price'].sort_values(ascending=False).max())\n",
    "    price_varietylow.add(i,df[df['variety']==i]['price'].sort_values(ascending=True).min())\n",
    "    points_variety.add(i,df[df['variety']==i]['points'].sort_values(ascending=False).max())\n",
    "    points_varietylow.add(i,df[df['variety']==i]['points'].sort_values(ascending=True).min())\n",
    "price_varietylow"
   ]
  },
  {
   "cell_type": "code",
   "execution_count": 72,
   "id": "7e0ba9f0",
   "metadata": {},
   "outputs": [
    {
     "data": {
      "text/plain": [
       "{'Žilavka': 88,\n",
       " 'Prunelard': 91,\n",
       " 'Premsal': 83,\n",
       " 'Piquepoul Blanc': 88,\n",
       " 'Pinotage-Merlot': 84}"
      ]
     },
     "execution_count": 72,
     "metadata": {},
     "output_type": "execute_result"
    }
   ],
   "source": [
    "points_varietylow"
   ]
  },
  {
   "cell_type": "code",
   "execution_count": 73,
   "id": "c43d5792",
   "metadata": {},
   "outputs": [],
   "source": [
    "df.to_csv(\"New_WineReviews.csv\")"
   ]
  },
  {
   "cell_type": "markdown",
   "id": "693f6165",
   "metadata": {},
   "source": [
    "Top 5 Countries having high demand for wine : \n",
    " - 'US': \n",
    " - 'France': \n",
    " 'Italy': \n",
    " 'Spain': \n",
    " 'Portugal': \n",
    "Top 5 Province having high demand for wine :  \n",
    "  California': \n",
    " 'Washington': \n",
    " 'Bordeaux':\n",
    " 'Tuscany': \n",
    " 'Oregon': \n",
    "\n",
    "Most Loved varieties of wine are :\n",
    "Chardonnay': \n",
    " 'Cabernet Sauvignon': \n",
    " 'Bordeaux-style Red Blend': \n",
    "Top wineries :\n",
    "    Williams Selyem'\n",
    "    Louis Latour'\n",
    "\n",
    "    Least loved wine varieties :\n",
    "Pinotage-Merlot'\n",
    "Premsal': "
   ]
  },
  {
   "cell_type": "code",
   "execution_count": 74,
   "id": "1ca2f054",
   "metadata": {},
   "outputs": [
    {
     "data": {
      "text/html": [
       "<div>\n",
       "<style scoped>\n",
       "    .dataframe tbody tr th:only-of-type {\n",
       "        vertical-align: middle;\n",
       "    }\n",
       "\n",
       "    .dataframe tbody tr th {\n",
       "        vertical-align: top;\n",
       "    }\n",
       "\n",
       "    .dataframe thead th {\n",
       "        text-align: right;\n",
       "    }\n",
       "</style>\n",
       "<table border=\"1\" class=\"dataframe\">\n",
       "  <thead>\n",
       "    <tr style=\"text-align: right;\">\n",
       "      <th></th>\n",
       "      <th>country</th>\n",
       "      <th>description</th>\n",
       "      <th>points</th>\n",
       "      <th>price</th>\n",
       "      <th>province</th>\n",
       "      <th>region_1</th>\n",
       "      <th>variety</th>\n",
       "      <th>winery</th>\n",
       "    </tr>\n",
       "  </thead>\n",
       "  <tbody>\n",
       "    <tr>\n",
       "      <th>52272</th>\n",
       "      <td>South Africa</td>\n",
       "      <td>This blend of 70% Pinotage and 30% Merlot show...</td>\n",
       "      <td>84</td>\n",
       "      <td>10.0</td>\n",
       "      <td>Polkadraai Hills</td>\n",
       "      <td>4480</td>\n",
       "      <td>Pinotage-Merlot</td>\n",
       "      <td>Stellenbosch Hills</td>\n",
       "    </tr>\n",
       "  </tbody>\n",
       "</table>\n",
       "</div>"
      ],
      "text/plain": [
       "            country                                        description  \\\n",
       "52272  South Africa  This blend of 70% Pinotage and 30% Merlot show...   \n",
       "\n",
       "       points  price          province region_1          variety  \\\n",
       "52272      84   10.0  Polkadraai Hills     4480  Pinotage-Merlot   \n",
       "\n",
       "                   winery  \n",
       "52272  Stellenbosch Hills  "
      ]
     },
     "execution_count": 74,
     "metadata": {},
     "output_type": "execute_result"
    }
   ],
   "source": [
    "df[df['variety']=='Pinotage-Merlot']"
   ]
  },
  {
   "cell_type": "code",
   "execution_count": 75,
   "id": "1f13a2a1",
   "metadata": {},
   "outputs": [
    {
     "data": {
      "text/html": [
       "<div>\n",
       "<style scoped>\n",
       "    .dataframe tbody tr th:only-of-type {\n",
       "        vertical-align: middle;\n",
       "    }\n",
       "\n",
       "    .dataframe tbody tr th {\n",
       "        vertical-align: top;\n",
       "    }\n",
       "\n",
       "    .dataframe thead th {\n",
       "        text-align: right;\n",
       "    }\n",
       "</style>\n",
       "<table border=\"1\" class=\"dataframe\">\n",
       "  <thead>\n",
       "    <tr style=\"text-align: right;\">\n",
       "      <th></th>\n",
       "      <th>country</th>\n",
       "      <th>description</th>\n",
       "      <th>points</th>\n",
       "      <th>price</th>\n",
       "      <th>province</th>\n",
       "      <th>region_1</th>\n",
       "      <th>variety</th>\n",
       "      <th>winery</th>\n",
       "    </tr>\n",
       "  </thead>\n",
       "  <tbody>\n",
       "    <tr>\n",
       "      <th>45799</th>\n",
       "      <td>US</td>\n",
       "      <td>Tasted in a flight of great and famous Napa wi...</td>\n",
       "      <td>100</td>\n",
       "      <td>200.0</td>\n",
       "      <td>California</td>\n",
       "      <td>Napa Valley</td>\n",
       "      <td>Cabernet Sauvignon</td>\n",
       "      <td>Cardinale</td>\n",
       "    </tr>\n",
       "    <tr>\n",
       "      <th>113930</th>\n",
       "      <td>US</td>\n",
       "      <td>In 2005 Charles Smith introduced three high-en...</td>\n",
       "      <td>100</td>\n",
       "      <td>80.0</td>\n",
       "      <td>Washington</td>\n",
       "      <td>Columbia Valley (WA)</td>\n",
       "      <td>Syrah</td>\n",
       "      <td>Charles Smith</td>\n",
       "    </tr>\n",
       "    <tr>\n",
       "      <th>118059</th>\n",
       "      <td>US</td>\n",
       "      <td>This wine dazzles with perfection. Sourced fro...</td>\n",
       "      <td>100</td>\n",
       "      <td>450.0</td>\n",
       "      <td>California</td>\n",
       "      <td>Sonoma County</td>\n",
       "      <td>Bordeaux-style Red Blend</td>\n",
       "      <td>Verité</td>\n",
       "    </tr>\n",
       "    <tr>\n",
       "      <th>123546</th>\n",
       "      <td>US</td>\n",
       "      <td>Initially a rather subdued Frog; as if it has ...</td>\n",
       "      <td>100</td>\n",
       "      <td>80.0</td>\n",
       "      <td>Washington</td>\n",
       "      <td>Walla Walla Valley (WA)</td>\n",
       "      <td>Syrah</td>\n",
       "      <td>Cayuse</td>\n",
       "    </tr>\n",
       "  </tbody>\n",
       "</table>\n",
       "</div>"
      ],
      "text/plain": [
       "       country                                        description  points  \\\n",
       "45799       US  Tasted in a flight of great and famous Napa wi...     100   \n",
       "113930      US  In 2005 Charles Smith introduced three high-en...     100   \n",
       "118059      US  This wine dazzles with perfection. Sourced fro...     100   \n",
       "123546      US  Initially a rather subdued Frog; as if it has ...     100   \n",
       "\n",
       "        price    province                 region_1                   variety  \\\n",
       "45799   200.0  California              Napa Valley        Cabernet Sauvignon   \n",
       "113930   80.0  Washington     Columbia Valley (WA)                     Syrah   \n",
       "118059  450.0  California            Sonoma County  Bordeaux-style Red Blend   \n",
       "123546   80.0  Washington  Walla Walla Valley (WA)                     Syrah   \n",
       "\n",
       "               winery  \n",
       "45799       Cardinale  \n",
       "113930  Charles Smith  \n",
       "118059         Verité  \n",
       "123546         Cayuse  "
      ]
     },
     "execution_count": 75,
     "metadata": {},
     "output_type": "execute_result"
    }
   ],
   "source": [
    "df[(df['country']=='US') & (df['points']==100)]"
   ]
  },
  {
   "cell_type": "code",
   "execution_count": 76,
   "id": "4ac6fb59",
   "metadata": {},
   "outputs": [
    {
     "ename": "SyntaxError",
     "evalue": "invalid syntax (Temp/ipykernel_15312/2118863298.py, line 1)",
     "output_type": "error",
     "traceback": [
      "\u001b[1;36m  File \u001b[1;32m\"C:\\Users\\91906\\AppData\\Local\\Temp/ipykernel_15312/2118863298.py\"\u001b[1;36m, line \u001b[1;32m1\u001b[0m\n\u001b[1;33m    Verité is expensive but popular wine in US followed by Cabernet Sauvignon .\u001b[0m\n\u001b[1;37m                        ^\u001b[0m\n\u001b[1;31mSyntaxError\u001b[0m\u001b[1;31m:\u001b[0m invalid syntax\n"
     ]
    }
   ],
   "source": [
    "Verité is expensive but popular wine in US followed by Cabernet Sauvignon .\n",
    "Syrah wine is popular and affordable wine in US\n",
    "\n"
   ]
  },
  {
   "cell_type": "code",
   "execution_count": null,
   "id": "f4ea2afc",
   "metadata": {},
   "outputs": [],
   "source": [
    "df[(df['country']=='France') & (df['points']==100)]"
   ]
  },
  {
   "cell_type": "code",
   "execution_count": 77,
   "id": "40675f37",
   "metadata": {},
   "outputs": [
    {
     "ename": "SyntaxError",
     "evalue": "invalid syntax (Temp/ipykernel_15312/3154817209.py, line 1)",
     "output_type": "error",
     "traceback": [
      "\u001b[1;36m  File \u001b[1;32m\"C:\\Users\\91906\\AppData\\Local\\Temp/ipykernel_15312/3154817209.py\"\u001b[1;36m, line \u001b[1;32m1\u001b[0m\n\u001b[1;33m    Bordeaux-style Red Blend is expensive and popular wine in France\u001b[0m\n\u001b[1;37m                   ^\u001b[0m\n\u001b[1;31mSyntaxError\u001b[0m\u001b[1;31m:\u001b[0m invalid syntax\n"
     ]
    }
   ],
   "source": [
    "Bordeaux-style Red Blend is expensive and popular wine in France"
   ]
  },
  {
   "cell_type": "code",
   "execution_count": 78,
   "id": "3a153576",
   "metadata": {},
   "outputs": [
    {
     "data": {
      "text/html": [
       "<div>\n",
       "<style scoped>\n",
       "    .dataframe tbody tr th:only-of-type {\n",
       "        vertical-align: middle;\n",
       "    }\n",
       "\n",
       "    .dataframe tbody tr th {\n",
       "        vertical-align: top;\n",
       "    }\n",
       "\n",
       "    .dataframe thead th {\n",
       "        text-align: right;\n",
       "    }\n",
       "</style>\n",
       "<table border=\"1\" class=\"dataframe\">\n",
       "  <thead>\n",
       "    <tr style=\"text-align: right;\">\n",
       "      <th></th>\n",
       "      <th>country</th>\n",
       "      <th>description</th>\n",
       "      <th>points</th>\n",
       "      <th>price</th>\n",
       "      <th>province</th>\n",
       "      <th>region_1</th>\n",
       "      <th>variety</th>\n",
       "      <th>winery</th>\n",
       "    </tr>\n",
       "  </thead>\n",
       "  <tbody>\n",
       "    <tr>\n",
       "      <th>7336</th>\n",
       "      <td>Italy</td>\n",
       "      <td>Thick as molasses and dark as caramelized brow...</td>\n",
       "      <td>100</td>\n",
       "      <td>210.0</td>\n",
       "      <td>Tuscany</td>\n",
       "      <td>Vin Santo di Montepulciano</td>\n",
       "      <td>Prugnolo Gentile</td>\n",
       "      <td>Avignonesi</td>\n",
       "    </tr>\n",
       "    <tr>\n",
       "      <th>39287</th>\n",
       "      <td>Italy</td>\n",
       "      <td>A perfect wine from a classic vintage, the 200...</td>\n",
       "      <td>100</td>\n",
       "      <td>460.0</td>\n",
       "      <td>Tuscany</td>\n",
       "      <td>Toscana</td>\n",
       "      <td>Merlot</td>\n",
       "      <td>Tenuta dell'Ornellaia</td>\n",
       "    </tr>\n",
       "    <tr>\n",
       "      <th>45782</th>\n",
       "      <td>Italy</td>\n",
       "      <td>This gorgeous, fragrant wine opens with classi...</td>\n",
       "      <td>100</td>\n",
       "      <td>550.0</td>\n",
       "      <td>Tuscany</td>\n",
       "      <td>Brunello di Montalcino</td>\n",
       "      <td>Sangiovese</td>\n",
       "      <td>Biondi Santi</td>\n",
       "    </tr>\n",
       "    <tr>\n",
       "      <th>111755</th>\n",
       "      <td>Italy</td>\n",
       "      <td>It takes only a few moments before you appreci...</td>\n",
       "      <td>100</td>\n",
       "      <td>270.0</td>\n",
       "      <td>Tuscany</td>\n",
       "      <td>Brunello di Montalcino</td>\n",
       "      <td>Sangiovese Grosso</td>\n",
       "      <td>Casanova di Neri</td>\n",
       "    </tr>\n",
       "  </tbody>\n",
       "</table>\n",
       "</div>"
      ],
      "text/plain": [
       "       country                                        description  points  \\\n",
       "7336     Italy  Thick as molasses and dark as caramelized brow...     100   \n",
       "39287    Italy  A perfect wine from a classic vintage, the 200...     100   \n",
       "45782    Italy  This gorgeous, fragrant wine opens with classi...     100   \n",
       "111755   Italy  It takes only a few moments before you appreci...     100   \n",
       "\n",
       "        price province                    region_1            variety  \\\n",
       "7336    210.0  Tuscany  Vin Santo di Montepulciano   Prugnolo Gentile   \n",
       "39287   460.0  Tuscany                     Toscana             Merlot   \n",
       "45782   550.0  Tuscany      Brunello di Montalcino         Sangiovese   \n",
       "111755  270.0  Tuscany      Brunello di Montalcino  Sangiovese Grosso   \n",
       "\n",
       "                       winery  \n",
       "7336               Avignonesi  \n",
       "39287   Tenuta dell'Ornellaia  \n",
       "45782            Biondi Santi  \n",
       "111755       Casanova di Neri  "
      ]
     },
     "execution_count": 78,
     "metadata": {},
     "output_type": "execute_result"
    }
   ],
   "source": [
    "df[(df['country']=='Italy') & (df['points']==100)]"
   ]
  },
  {
   "cell_type": "code",
   "execution_count": 79,
   "id": "f4ed3b45",
   "metadata": {},
   "outputs": [
    {
     "ename": "SyntaxError",
     "evalue": "invalid syntax (Temp/ipykernel_15312/2463771778.py, line 1)",
     "output_type": "error",
     "traceback": [
      "\u001b[1;36m  File \u001b[1;32m\"C:\\Users\\91906\\AppData\\Local\\Temp/ipykernel_15312/2463771778.py\"\u001b[1;36m, line \u001b[1;32m1\u001b[0m\n\u001b[1;33m    Expensive wine in Italy-Sangiovese\u001b[0m\n\u001b[1;37m              ^\u001b[0m\n\u001b[1;31mSyntaxError\u001b[0m\u001b[1;31m:\u001b[0m invalid syntax\n"
     ]
    }
   ],
   "source": [
    "Expensive wine in Italy-Sangiovese"
   ]
  },
  {
   "cell_type": "code",
   "execution_count": 81,
   "id": "a4e94d5b",
   "metadata": {},
   "outputs": [
    {
     "data": {
      "text/plain": [
       "Text(0.5, 0, '')"
      ]
     },
     "execution_count": 81,
     "metadata": {},
     "output_type": "execute_result"
    },
    {
     "data": {
      "image/png": "[encoded data removed]",
      "text/plain": [
       "<Figure size 1152x576 with 1 Axes>"
      ]
     },
     "metadata": {},
     "output_type": "display_data"
    }
   ],
   "source": [
    "plt.figure(figsize=(16,8))\n",
    "\n",
    "cnt = df.groupby(['country'])['price'].max().sort_values(ascending=False).to_frame()[:20]\n",
    "g2 = sns.barplot(x = cnt['price'], y = cnt.index, palette= 'colorblind')\n",
    "g2.set_title('Most expensive wine in country')\n",
    "g2.set_ylabel('Country')\n",
    "g2.set_xlabel('')"
   ]
  },
  {
   "cell_type": "code",
   "execution_count": 87,
   "id": "87a291de",
   "metadata": {},
   "outputs": [
    {
     "name": "stderr",
     "output_type": "stream",
     "text": [
      "[nltk_data] Downloading package vader_lexicon to\n",
      "[nltk_data]     C:\\Users\\91906\\AppData\\Roaming\\nltk_data...\n"
     ]
    },
    {
     "data": {
      "text/plain": [
       "True"
      ]
     },
     "execution_count": 87,
     "metadata": {},
     "output_type": "execute_result"
    }
   ],
   "source": [
    "import nltk\n",
    "nltk.download('vader_lexicon')"
   ]
  },
  {
   "cell_type": "code",
   "execution_count": 90,
   "id": "5ca07305",
   "metadata": {},
   "outputs": [],
   "source": [
    "from nltk.sentiment.vader import SentimentIntensityAnalyzer\n",
    "\n",
    "SIA = SentimentIntensityAnalyzer()\n",
    "\n",
    "# Applying Model, Variable Creation\n",
    "sentiment = df.sample(15000).copy()\n",
    "sentiment['polarity_score']=sentiment.description.apply(lambda x:SIA.polarity_scores(x)['compound'])\n",
    "sentiment['neutral_score']=sentiment.description.apply(lambda x:SIA.polarity_scores(x)['neu'])\n",
    "sentiment['negative_score']=sentiment.description.apply(lambda x:SIA.polarity_scores(x)['neg'])\n",
    "sentiment['positive_score']=sentiment.description.apply(lambda x:SIA.polarity_scores(x)['pos'])\n",
    "\n",
    "sentiment['sentiment']= np.nan\n",
    "sentiment.loc[sentiment.polarity_score>0,'sentiment']='POSITIVE'\n",
    "sentiment.loc[sentiment.polarity_score==0,'sentiment']='NEUTRAL'\n",
    "sentiment.loc[sentiment.polarity_score<0,'sentiment']='NEGATIVE'\n"
   ]
  },
  {
   "cell_type": "code",
   "execution_count": null,
   "id": "65424d33",
   "metadata": {},
   "outputs": [],
   "source": []
  },
  {
   "cell_type": "code",
   "execution_count": null,
   "id": "c35aad9e",
   "metadata": {},
   "outputs": [],
   "source": []
  },
  {
   "cell_type": "code",
   "execution_count": 123,
   "id": "a50d79b7",
   "metadata": {},
   "outputs": [
    {
     "data": {
      "image/png": "[encoded data removed]",
      "text/plain": [
       "<Figure size 1008x360 with 2 Axes>"
      ]
     },
     "metadata": {},
     "output_type": "display_data"
    }
   ],
   "source": [
    "plt.figure(figsize=(14,5))\n",
    "\n",
    "plt.suptitle('Sentiment of the reviews by: \\n- Points and Price(log) -', size=22)\n",
    "\n",
    "plt.subplot(121)\n",
    "ax = sns.boxplot(x='sentiment', y='points', data=sentiment,palette = 'deep')\n",
    "ax.set_title(\"Sentiment by Points Distribution\", fontsize=19)\n",
    "ax.set_ylabel(\"Points \", fontsize=17)\n",
    "ax.set_xlabel(\"Sentiment Label\", fontsize=17)\n",
    "\n",
    "plt.subplot(122)\n",
    "ax1= sns.boxplot(x='sentiment', y='price', data=sentiment,palette = 'deep')\n",
    "ax1.set_title(\"Sentiment by Price Distribution\", fontsize=19)\n",
    "ax1.set_ylabel(\"Price \", fontsize=17)\n",
    "ax1.set_xlabel(\"Sentiment Label\", fontsize=17)\n",
    "\n",
    "plt.subplots_adjust(top = 0.75, wspace=.2)\n",
    "plt.show()"
   ]
  },
  {
   "cell_type": "markdown",
   "id": "873d2f58",
   "metadata": {},
   "source": []
  },
  {
   "cell_type": "code",
   "execution_count": null,
   "id": "a41b3f7a",
   "metadata": {},
   "outputs": [],
   "source": [
    "- Despite its high price, Verité is a popular wine in the United States, followed by Cabernet Sauvignon"
   ]
  }
 ],
 "metadata": {
  "kernelspec": {
   "display_name": "Python 3 (ipykernel)",
   "language": "python",
   "name": "python3"
  },
  "language_info": {
   "codemirror_mode": {
    "name": "ipython",
    "version": 3
   },
   "file_extension": ".py",
   "mimetype": "text/x-python",
   "name": "python",
   "nbconvert_exporter": "python",
   "pygments_lexer": "ipython3",
   "version": "3.9.7"
  }
 },
 "nbformat": 4,
 "nbformat_minor": 5
}
